{
 "cells": [
  {
   "cell_type": "code",
   "execution_count": 142,
   "metadata": {},
   "outputs": [],
   "source": [
    "import numpy as np\n",
    "class HMM(object):\n",
    "    def __init__(self,N,M,pi=None,A=None,B=None):\n",
    "        \"\"\"\n",
    "        parameters:\n",
    "            pi:初始概率分布\n",
    "            A:状态转移 矩阵\n",
    "            B:观测概率矩阵\n",
    "        \n",
    "        \"\"\"\n",
    "        self.N=N\n",
    "        self.M=M\n",
    "        self.pi=pi\n",
    "        self.A=A\n",
    "        self.B=B\n",
    "    def get_data_with_distribute(self,dist):\n",
    "        \"\"\"根据给定的概率分布随机返回数据\"\"\"\n",
    "        #r=np.random.rand()\n",
    "        \"\"\"for i,p in enumerate(dist):\n",
    "            if r<p: return i\n",
    "            r-=p\n",
    "        population=list(range(len(dist)))\n",
    "        \"\"\"\n",
    "        dist=dist.flatten()\n",
    "        #print(dist)\n",
    "        return np.random.choice(len(dist),1,p=list(dist))\n",
    "    def generate(self,T:int):\n",
    "        \"\"\"\n",
    "        根据给定的参数生成观测序列\n",
    "        T:指定要生产数据的数量\n",
    "        \n",
    "        \"\"\"\n",
    "        z=self.get_data_with_distribute(self.pi)       #根据初始概率分布生成第一个状态\n",
    "        x=self.get_data_with_distribute(self.B[z])     #根据第一个状态生成第一个观测数据\n",
    "        result=[x.item()]\n",
    "        for _ in range(T-1):\n",
    "            z=self.get_data_with_distribute(self.A[z]) #A是概率转移矩阵，A[z]代表当前为状态\n",
    "                                                       #为z可能的下一个时刻的概率分布\n",
    "            x=self.get_data_with_distribute(self.B[z]) #根据该时刻生产的状态生成观察数据\n",
    "            result.append(x.item())\n",
    "   \n",
    "    def evaluate(self,X):\n",
    "        \"\"\"\n",
    "        概率计算问题的前向算法实现，已知所有参数和观察序列，求p(X|lambda),X:观察序列数据\n",
    "        \"\"\"\n",
    "        alpha=self.pi*self.B[:,X[0]] #alpha1\n",
    "        for x in X[1:]:\n",
    "            alpha=np.sum(self.A*alpha.reshape(-1,1)*self.B[:,x].reshape(1,-1),axis=0)\n",
    "        return alpha.sum()\n",
    "            \n",
    "        return result"
   ]
  },
  {
   "cell_type": "code",
   "execution_count": 143,
   "metadata": {},
   "outputs": [
    {
     "name": "stdout",
     "output_type": "stream",
     "text": [
      "None\n"
     ]
    }
   ],
   "source": [
    "pi=np.array([.25,.25,.25,.25])\n",
    "A=np.array([\n",
    "    [0,1,0,0],\n",
    "    [.4,0,.6,0],\n",
    "    [0,.4,0,.6],\n",
    "    [0,0,.5,.5]])\n",
    "B=np.array([   #只有0,1\n",
    "    [.5,.5],\n",
    "    [.3,.7],\n",
    "    [.6,.4],\n",
    "    [.8,.2]])\n",
    "hmm=HMM(4,2,pi,A,B)\n",
    "print(hmm.generate(10))"
   ]
  },
  {
   "cell_type": "code",
   "execution_count": 144,
   "metadata": {},
   "outputs": [
    {
     "name": "stdout",
     "output_type": "stream",
     "text": [
      "0.026862016000000002\n"
     ]
    }
   ],
   "source": [
    "print(hmm.evaluate([0,0,1,1,0]))"
   ]
  },
  {
   "cell_type": "code",
   "execution_count": 133,
   "metadata": {},
   "outputs": [
    {
     "data": {
      "text/plain": [
       "array([0.125, 0.075, 0.15 , 0.2  ])"
      ]
     },
     "execution_count": 133,
     "metadata": {},
     "output_type": "execute_result"
    }
   ],
   "source": [
    "X=[0,0,1,1,0]\n",
    "alpha = pi * B[:,X[0]]\n",
    "alpha"
   ]
  },
  {
   "cell_type": "code",
   "execution_count": 137,
   "metadata": {},
   "outputs": [
    {
     "data": {
      "text/plain": [
       "array([[0.       , 0.200556 , 0.       , 0.       ],\n",
       "       [0.133704 , 0.       , 0.2406672, 0.       ],\n",
       "       [0.       , 0.0802224, 0.       , 0.3208896],\n",
       "       [0.       , 0.       , 0.200556 , 0.267408 ]])"
      ]
     },
     "execution_count": 137,
     "metadata": {},
     "output_type": "execute_result"
    }
   ],
   "source": [
    "alpha = A * alpha.reshape(-1,1) * B[:,X[1]].reshape(1,-1)\n",
    "alpha"
   ]
  }
 ],
 "metadata": {
  "kernelspec": {
   "display_name": "Python 3",
   "language": "python",
   "name": "python3"
  },
  "language_info": {
   "codemirror_mode": {
    "name": "ipython",
    "version": 3
   },
   "file_extension": ".py",
   "mimetype": "text/x-python",
   "name": "python",
   "nbconvert_exporter": "python",
   "pygments_lexer": "ipython3",
   "version": "3.7.4"
  }
 },
 "nbformat": 4,
 "nbformat_minor": 4
}
